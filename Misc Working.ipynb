{
 "cells": [
  {
   "cell_type": "markdown",
   "id": "7badf856",
   "metadata": {},
   "source": [
    "# Miscellaneous Workings"
   ]
  },
  {
   "cell_type": "markdown",
   "id": "5fef4108",
   "metadata": {},
   "source": [
    "This notebook contains workings for the selected problems in Week 1-3 for Python Programming Essentials Course at Coursera along with some bonus workings I did while reading the book Grokking Algorithms while learning the Python Essentials course."
   ]
  },
  {
   "cell_type": "markdown",
   "id": "30702920",
   "metadata": {},
   "source": [
    "## Bonus Workings: Grokking Algorithms"
   ]
  },
  {
   "cell_type": "code",
   "execution_count": 2,
   "id": "592da353",
   "metadata": {},
   "outputs": [],
   "source": [
    "import math as math"
   ]
  },
  {
   "cell_type": "code",
   "execution_count": 5,
   "id": "cfb7efb7",
   "metadata": {},
   "outputs": [],
   "source": [
    "def countdowns(i):\n",
    "    print(i)\n",
    "    if i > 0:\n",
    "        countdowns(i-1)\n",
    "    else:\n",
    "        return None"
   ]
  },
  {
   "cell_type": "code",
   "execution_count": 6,
   "id": "96e23d49",
   "metadata": {},
   "outputs": [
    {
     "name": "stdout",
     "output_type": "stream",
     "text": [
      "4\n",
      "3\n",
      "2\n",
      "1\n",
      "0\n"
     ]
    }
   ],
   "source": [
    "countdowns(4)"
   ]
  },
  {
   "cell_type": "code",
   "execution_count": 7,
   "id": "3972dc0a",
   "metadata": {},
   "outputs": [],
   "source": [
    "def fact(x):\n",
    "    if x > 0:\n",
    "        return x*fact(x-1)\n",
    "    elif x == 0:\n",
    "        return 1\n",
    "    else:\n",
    "        return None"
   ]
  },
  {
   "cell_type": "code",
   "execution_count": 8,
   "id": "6ab817be",
   "metadata": {},
   "outputs": [
    {
     "data": {
      "text/plain": [
       "24"
      ]
     },
     "execution_count": 8,
     "metadata": {},
     "output_type": "execute_result"
    }
   ],
   "source": [
    "fact(4)"
   ]
  },
  {
   "cell_type": "code",
   "execution_count": 9,
   "id": "b81fe702",
   "metadata": {},
   "outputs": [],
   "source": [
    "def sum(lst):\n",
    "    if len(lst) > 0:\n",
    "        x = lst[0] + sum(lst[1:])\n",
    "        return x\n",
    "    else:\n",
    "        return 0\n"
   ]
  },
  {
   "cell_type": "code",
   "execution_count": 10,
   "id": "9ef1d51c",
   "metadata": {},
   "outputs": [],
   "source": [
    "lst1 = [1,2,3,4,5]"
   ]
  },
  {
   "cell_type": "code",
   "execution_count": 11,
   "id": "81a8b83a",
   "metadata": {},
   "outputs": [
    {
     "data": {
      "text/plain": [
       "5"
      ]
     },
     "execution_count": 11,
     "metadata": {},
     "output_type": "execute_result"
    }
   ],
   "source": [
    "len(lst1)"
   ]
  },
  {
   "cell_type": "code",
   "execution_count": 12,
   "id": "b381220b",
   "metadata": {},
   "outputs": [
    {
     "data": {
      "text/plain": [
       "15"
      ]
     },
     "execution_count": 12,
     "metadata": {},
     "output_type": "execute_result"
    }
   ],
   "source": [
    "sum(lst1)"
   ]
  },
  {
   "cell_type": "code",
   "execution_count": 13,
   "id": "ccc6c442",
   "metadata": {},
   "outputs": [],
   "source": [
    "def lenlist (lst):\n",
    "    \"\"\"\n",
    "    A formula calculating length of an array using recursive function.\n",
    "    \"\"\"\n",
    "    \n",
    "    if len(lst) > 0:\n",
    "        return 1 + lenlist(lst[1:])\n",
    "    else:\n",
    "        return 0"
   ]
  },
  {
   "cell_type": "code",
   "execution_count": 14,
   "id": "a07ada17",
   "metadata": {},
   "outputs": [
    {
     "data": {
      "text/plain": [
       "8"
      ]
     },
     "execution_count": 14,
     "metadata": {},
     "output_type": "execute_result"
    }
   ],
   "source": [
    "lenlist([-5,4,2,8,1,7,3,4])"
   ]
  },
  {
   "cell_type": "code",
   "execution_count": 15,
   "id": "dbc545d7",
   "metadata": {},
   "outputs": [],
   "source": [
    "def maxlist (lst):\n",
    "    \"\"\"\n",
    "    A formula for finding maximum element of the array.\n",
    "    \"\"\"\n",
    "    if len(lst) == 0:\n",
    "        return None \n",
    "    elif len(lst) > 1:\n",
    "        return lst[0] if lst[0] > maxlist(lst[1:]) else maxlist(lst[1:])\n",
    "    else:\n",
    "        return lst[0]"
   ]
  },
  {
   "cell_type": "code",
   "execution_count": 16,
   "id": "aa0ea5ac",
   "metadata": {
    "scrolled": true
   },
   "outputs": [
    {
     "data": {
      "text/plain": [
       "999"
      ]
     },
     "execution_count": 16,
     "metadata": {},
     "output_type": "execute_result"
    }
   ],
   "source": [
    "maxlist([1,2,3,5,2,4,999])"
   ]
  },
  {
   "cell_type": "code",
   "execution_count": 17,
   "id": "c1a4f0ab",
   "metadata": {},
   "outputs": [],
   "source": [
    "def quicksort(lst):\n",
    "    if len(lst) < 2:\n",
    "        return lst\n",
    "    else:\n",
    "        pivot = lst[-1]\n",
    "        left = [i for i in lst[:-1] if i <= pivot]\n",
    "        right = [i for i in lst[:-1] if i > pivot]\n",
    "        \n",
    "        return quicksort(left) + [pivot] + quicksort(right)"
   ]
  },
  {
   "cell_type": "code",
   "execution_count": 18,
   "id": "39da1c6b",
   "metadata": {},
   "outputs": [
    {
     "name": "stdout",
     "output_type": "stream",
     "text": [
      "[-5, 0, 1, 2, 3, 5, 45]\n"
     ]
    }
   ],
   "source": [
    "print(quicksort([1,5,2,-5,0,45,3]))"
   ]
  },
  {
   "cell_type": "code",
   "execution_count": 19,
   "id": "0d347a09",
   "metadata": {},
   "outputs": [],
   "source": [
    "def maxlist2 (lst):\n",
    "    if len(lst) == 0:\n",
    "        return None\n",
    "    if len(lst) == 1:\n",
    "        return lst[0]\n",
    "    else:\n",
    "        largest = lst[0]\n",
    "        for i in range(1,len(lst)):\n",
    "            if lst[i] > largest:\n",
    "                largest = lst[i]\n",
    "        return largest"
   ]
  },
  {
   "cell_type": "code",
   "execution_count": 20,
   "id": "bb2069c8",
   "metadata": {},
   "outputs": [
    {
     "data": {
      "text/plain": [
       "999"
      ]
     },
     "execution_count": 20,
     "metadata": {},
     "output_type": "execute_result"
    }
   ],
   "source": [
    "maxlist2([1,2,3,5,2,4,999])"
   ]
  },
  {
   "cell_type": "code",
   "execution_count": 21,
   "id": "4a046ad6",
   "metadata": {},
   "outputs": [],
   "source": [
    "def insertionsort(lst):\n",
    "    lst_n = lst\n",
    "    new = []\n",
    "    for i in range(len(lst)):\n",
    "        if lst_n[0] > lst_n[-1]:\n",
    "            new.append(lst_n.pop(-1))\n",
    "        else:\n",
    "            new.append(lst_n.pop(0))\n",
    "    return new    "
   ]
  },
  {
   "cell_type": "code",
   "execution_count": 22,
   "id": "db1ab3c7",
   "metadata": {},
   "outputs": [
    {
     "data": {
      "text/plain": [
       "[0, 1, 2, 3, 5, 6, 8, 9, 10, 11]"
      ]
     },
     "execution_count": 22,
     "metadata": {},
     "output_type": "execute_result"
    }
   ],
   "source": [
    "insertionsort([1,2,6,8,9,11,10,5,3,0])"
   ]
  },
  {
   "cell_type": "code",
   "execution_count": 23,
   "id": "06aef199",
   "metadata": {},
   "outputs": [],
   "source": [
    "def binary_search(list, item):\n",
    "    start = 0\n",
    "    end = len(list) \n",
    "    while start <= end:\n",
    "        mid = (start + end)//2\n",
    "        if list[mid] == item:\n",
    "            return print(\"Item is at index: \" + str(mid))\n",
    "        elif list[mid] > item:\n",
    "            end = mid - 1\n",
    "        else:\n",
    "            start = mid + 1\n",
    "    return print(\"Item not found\")"
   ]
  },
  {
   "cell_type": "code",
   "execution_count": 24,
   "id": "1d639523",
   "metadata": {},
   "outputs": [
    {
     "name": "stdout",
     "output_type": "stream",
     "text": [
      "Item is at index: 7\n"
     ]
    }
   ],
   "source": [
    "binary_search([1,2,3,55,57,89,122,457,544,6667,78894,112223,411111,9999999,9999999999], 457)"
   ]
  },
  {
   "cell_type": "markdown",
   "id": "e32941bf",
   "metadata": {},
   "source": [
    "## Week 1 - 3 Workings for Python Programming Essentials"
   ]
  },
  {
   "cell_type": "code",
   "execution_count": 3,
   "id": "b84ad2cb",
   "metadata": {},
   "outputs": [
    {
     "data": {
      "text/plain": [
       "2"
      ]
     },
     "execution_count": 3,
     "metadata": {},
     "output_type": "execute_result"
    }
   ],
   "source": [
    "5//2"
   ]
  },
  {
   "cell_type": "code",
   "execution_count": 4,
   "id": "b5736ee3",
   "metadata": {},
   "outputs": [
    {
     "data": {
      "text/plain": [
       "0"
      ]
     },
     "execution_count": 4,
     "metadata": {},
     "output_type": "execute_result"
    }
   ],
   "source": [
    "10*2%10"
   ]
  },
  {
   "cell_type": "code",
   "execution_count": 27,
   "id": "ee57d6fc",
   "metadata": {},
   "outputs": [],
   "source": [
    "conversion_ratio = 5280"
   ]
  },
  {
   "cell_type": "code",
   "execution_count": 28,
   "id": "be7bda6b",
   "metadata": {},
   "outputs": [],
   "source": [
    "miles = 13"
   ]
  },
  {
   "cell_type": "code",
   "execution_count": 29,
   "id": "833c0755",
   "metadata": {},
   "outputs": [
    {
     "data": {
      "text/plain": [
       "68640"
      ]
     },
     "execution_count": 29,
     "metadata": {},
     "output_type": "execute_result"
    }
   ],
   "source": [
    "feet_to_miles = miles*conversion_ratio\n",
    "feet_to_miles"
   ]
  },
  {
   "cell_type": "code",
   "execution_count": 30,
   "id": "34c63f9c",
   "metadata": {},
   "outputs": [],
   "source": [
    "total_mins = 7*60 + 21"
   ]
  },
  {
   "cell_type": "code",
   "execution_count": 31,
   "id": "84a60d23",
   "metadata": {},
   "outputs": [],
   "source": [
    "seconds = total_mins*60 + 37"
   ]
  },
  {
   "cell_type": "code",
   "execution_count": 32,
   "id": "bc7d2b33",
   "metadata": {},
   "outputs": [
    {
     "data": {
      "text/plain": [
       "26497"
      ]
     },
     "execution_count": 32,
     "metadata": {},
     "output_type": "execute_result"
    }
   ],
   "source": [
    "seconds"
   ]
  },
  {
   "cell_type": "code",
   "execution_count": 33,
   "id": "7b778a99",
   "metadata": {},
   "outputs": [],
   "source": [
    "__number__ = 4"
   ]
  },
  {
   "cell_type": "code",
   "execution_count": 35,
   "id": "4d254cdd",
   "metadata": {},
   "outputs": [
    {
     "data": {
      "text/plain": [
       "36960"
      ]
     },
     "execution_count": 35,
     "metadata": {},
     "output_type": "execute_result"
    }
   ],
   "source": [
    "def miles_to_feet(miles):\n",
    "    feets = miles*5280\n",
    "    return feets\n",
    "miles_to_feet(7)"
   ]
  },
  {
   "cell_type": "code",
   "execution_count": 36,
   "id": "bf8dbe37",
   "metadata": {},
   "outputs": [
    {
     "data": {
      "text/plain": [
       "145121"
      ]
     },
     "execution_count": 36,
     "metadata": {},
     "output_type": "execute_result"
    }
   ],
   "source": [
    "def total_seconds(hr, mins, secs):\n",
    "    total = (hr*60 + mins)*60 + secs\n",
    "    return total\n",
    "total_seconds(40,17,101)"
   ]
  },
  {
   "cell_type": "code",
   "execution_count": 37,
   "id": "ae3b2a44",
   "metadata": {},
   "outputs": [
    {
     "data": {
      "text/plain": [
       "18"
      ]
     },
     "execution_count": 37,
     "metadata": {},
     "output_type": "execute_result"
    }
   ],
   "source": [
    "def rectangle_perimeter(width, height):\n",
    "    perimeter = 2*width + height*2\n",
    "    return perimeter\n",
    "rectangle_perimeter(5, 4)"
   ]
  },
  {
   "cell_type": "code",
   "execution_count": 38,
   "id": "0e4462c4",
   "metadata": {},
   "outputs": [
    {
     "data": {
      "text/plain": [
       "257.610597594363"
      ]
     },
     "execution_count": 38,
     "metadata": {},
     "output_type": "execute_result"
    }
   ],
   "source": [
    "def circle_circumference(radius):\n",
    "    circumference = 2*math.pi*radius\n",
    "    return circumference\n",
    "circle_circumference(41)"
   ]
  },
  {
   "cell_type": "code",
   "execution_count": 39,
   "id": "73e7ca76",
   "metadata": {},
   "outputs": [
    {
     "data": {
      "text/plain": [
       "'Ace is 45 years old'"
      ]
     },
     "execution_count": 39,
     "metadata": {},
     "output_type": "execute_result"
    }
   ],
   "source": [
    "def name_and_age(name, age):\n",
    "    return name + \" is \" + str(age) + \" years old\"\n",
    "name_and_age('Ace',45)"
   ]
  },
  {
   "cell_type": "code",
   "execution_count": 40,
   "id": "34ec4f0f",
   "metadata": {},
   "outputs": [
    {
     "data": {
      "text/plain": [
       "'The tens digit is 8, and the ones digit is 5.'"
      ]
     },
     "execution_count": 40,
     "metadata": {},
     "output_type": "execute_result"
    }
   ],
   "source": [
    "def print_digits(num):\n",
    "    ones = num%10\n",
    "    tens = num//10\n",
    "    return \"The tens digit is \" + str(tens) + \", and the ones digit is \" + str(ones) + \".\"  \n",
    "print_digits(85)"
   ]
  },
  {
   "cell_type": "code",
   "execution_count": 41,
   "id": "ee9e4fa7",
   "metadata": {},
   "outputs": [
    {
     "data": {
      "text/plain": [
       "4"
      ]
     },
     "execution_count": 41,
     "metadata": {},
     "output_type": "execute_result"
    }
   ],
   "source": [
    "45//10"
   ]
  },
  {
   "cell_type": "code",
   "execution_count": 42,
   "id": "ce43912d",
   "metadata": {},
   "outputs": [
    {
     "data": {
      "text/plain": [
       "5"
      ]
     },
     "execution_count": 42,
     "metadata": {},
     "output_type": "execute_result"
    }
   ],
   "source": [
    "45%10"
   ]
  },
  {
   "cell_type": "code",
   "execution_count": 43,
   "id": "5c2b4969",
   "metadata": {},
   "outputs": [
    {
     "name": "stdout",
     "output_type": "stream",
     "text": [
      "1.0988845115895123 3.846095790563293\n"
     ]
    }
   ],
   "source": [
    "def project_to_distance (pointx, pointy, distance):\n",
    "    dist_to_origin = (pointx ** 2 + pointy ** 2) ** 0.5\n",
    "    scale = distance / dist_to_origin\n",
    "    print (pointx * scale, pointy * scale)\n",
    "\n",
    "project_to_distance(2, 7, 4)"
   ]
  },
  {
   "cell_type": "code",
   "execution_count": 47,
   "id": "51845cf6",
   "metadata": {},
   "outputs": [
    {
     "data": {
      "text/plain": [
       "62"
      ]
     },
     "execution_count": 47,
     "metadata": {},
     "output_type": "execute_result"
    }
   ],
   "source": [
    "-5*5 + 67*2 -47"
   ]
  },
  {
   "cell_type": "code",
   "execution_count": 48,
   "id": "508d50d6",
   "metadata": {},
   "outputs": [
    {
     "data": {
      "text/plain": [
       "61"
      ]
     },
     "execution_count": 48,
     "metadata": {},
     "output_type": "execute_result"
    }
   ],
   "source": [
    "def math_func1 (x):\n",
    "    total = -5*(x**5) + 67*(x**2) - 47\n",
    "    return total\n",
    "math_func1(0)\n",
    "math_func1(2)"
   ]
  },
  {
   "cell_type": "code",
   "execution_count": 49,
   "id": "a376e72c",
   "metadata": {},
   "outputs": [],
   "source": [
    "def future_value(present_value, annual_rate, periods_per_year, years):\n",
    "    \"\"\"\n",
    "    Input: the numbers present_value, annual_rate, periods_per_year, years\n",
    "    Output: future value based on formula given in question\n",
    "    \"\"\"\n",
    "    rate_per_period = annual_rate / periods_per_year\n",
    "    periods = periods_per_year * years\n",
    "    return present_value*((1 + rate_per_period)**periods)"
   ]
  },
  {
   "cell_type": "code",
   "execution_count": 50,
   "id": "0b4a88f9",
   "metadata": {},
   "outputs": [
    {
     "name": "stdout",
     "output_type": "stream",
     "text": [
      "$1000 at 2% compounded daily for 4 years yields $ 1083.2846934365864\n"
     ]
    }
   ],
   "source": [
    "print(\"$1000 at 2% compounded daily for 4 years yields $\", future_value(1000, .02, 365, 4))"
   ]
  },
  {
   "cell_type": "code",
   "execution_count": 51,
   "id": "3375ec9e",
   "metadata": {},
   "outputs": [
    {
     "data": {
      "text/plain": [
       "745.3174428239327"
      ]
     },
     "execution_count": 51,
     "metadata": {},
     "output_type": "execute_result"
    }
   ],
   "source": [
    "future_value(500, .04, 10, 10)"
   ]
  },
  {
   "cell_type": "code",
   "execution_count": 52,
   "id": "7f91a49a",
   "metadata": {},
   "outputs": [],
   "source": [
    "def equi_triangle_area(side):\n",
    "    return ((3**(1/2))/4)*(side**2)"
   ]
  },
  {
   "cell_type": "code",
   "execution_count": 53,
   "id": "9b6ef975",
   "metadata": {},
   "outputs": [
    {
     "data": {
      "text/plain": [
       "10.825317547305483"
      ]
     },
     "execution_count": 53,
     "metadata": {},
     "output_type": "execute_result"
    }
   ],
   "source": [
    "equi_triangle_area(5)"
   ]
  },
  {
   "cell_type": "code",
   "execution_count": 54,
   "id": "1ebf67be",
   "metadata": {},
   "outputs": [
    {
     "data": {
      "text/plain": [
       "True"
      ]
     },
     "execution_count": 54,
     "metadata": {},
     "output_type": "execute_result"
    }
   ],
   "source": [
    "'a' > 'A'"
   ]
  },
  {
   "cell_type": "code",
   "execution_count": 3,
   "id": "94174deb",
   "metadata": {},
   "outputs": [
    {
     "data": {
      "text/plain": [
       "True"
      ]
     },
     "execution_count": 3,
     "metadata": {},
     "output_type": "execute_result"
    }
   ],
   "source": [
    "'apple' > 'Apple'"
   ]
  },
  {
   "cell_type": "code",
   "execution_count": 7,
   "id": "a09a657f",
   "metadata": {},
   "outputs": [
    {
     "data": {
      "text/plain": [
       "0"
      ]
     },
     "execution_count": 7,
     "metadata": {},
     "output_type": "execute_result"
    }
   ],
   "source": [
    "10%2"
   ]
  },
  {
   "cell_type": "code",
   "execution_count": 55,
   "id": "51fedaba",
   "metadata": {},
   "outputs": [],
   "source": [
    "def f(num):\n",
    "    if num%2 == 0:\n",
    "        return num//2\n",
    "    else:\n",
    "        return num*3 + 1"
   ]
  },
  {
   "cell_type": "code",
   "execution_count": 56,
   "id": "55b65fac",
   "metadata": {},
   "outputs": [
    {
     "data": {
      "text/plain": [
       "190"
      ]
     },
     "execution_count": 56,
     "metadata": {},
     "output_type": "execute_result"
    }
   ],
   "source": [
    "f(f(f(f(f(f(f(674)))))))"
   ]
  },
  {
   "cell_type": "code",
   "execution_count": 57,
   "id": "d91a1dc4",
   "metadata": {},
   "outputs": [
    {
     "data": {
      "text/plain": [
       "3053"
      ]
     },
     "execution_count": 57,
     "metadata": {},
     "output_type": "execute_result"
    }
   ],
   "source": [
    "f(f(f(f(f(f(f(f(f(f(f(f(f(f(1071))))))))))))))"
   ]
  }
 ],
 "metadata": {
  "kernelspec": {
   "display_name": "Python 3 (ipykernel)",
   "language": "python",
   "name": "python3"
  },
  "language_info": {
   "codemirror_mode": {
    "name": "ipython",
    "version": 3
   },
   "file_extension": ".py",
   "mimetype": "text/x-python",
   "name": "python",
   "nbconvert_exporter": "python",
   "pygments_lexer": "ipython3",
   "version": "3.7.4"
  }
 },
 "nbformat": 4,
 "nbformat_minor": 5
}
