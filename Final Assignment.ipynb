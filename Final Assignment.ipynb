{
 "cells": [
  {
   "cell_type": "markdown",
   "id": "3f644de7",
   "metadata": {},
   "source": [
    "# Python Programming Essentials Final Week"
   ]
  },
  {
   "cell_type": "markdown",
   "id": "813f4f4d",
   "metadata": {},
   "source": [
    "This is my working for the **RPLSLS problem** and **The Final Assignment** for **Python Programming Essentials Course** at Coursera. This notebook has been made to share my workings for the assignments in week 4 and help anyone who is having any issue with the problems in the final week. \n",
    "\n",
    "*Copying and pasting the code is discouraged as it will violate Coursera honour code for you. That being said, final use of this notebook is as per user descretion and I shall not be held liable for any future complications arising from the unauthorized use of this notebook.*"
   ]
  },
  {
   "cell_type": "code",
   "execution_count": 10,
   "id": "1297b82c",
   "metadata": {},
   "outputs": [],
   "source": [
    "import random"
   ]
  },
  {
   "cell_type": "code",
   "execution_count": 14,
   "id": "b40fb8db",
   "metadata": {},
   "outputs": [],
   "source": [
    "def rpsls(symbol):\n",
    "    \"\"\"\n",
    "    Goal here is to create a game where we will use additional weapons in traditional rock, paper, scissor game, namely\n",
    "    spock and lizard. We will record the input of the user and make computer guess one of the weapon randomly before \n",
    "    announcing the result.\n",
    "    \"\"\"\n",
    "\n",
    "    #Part 1: Convert Symbols into numbers\n",
    "       \n",
    "    if symbol == \"rock\":\n",
    "        human_num = 0\n",
    "        print(\"You picked Rock!\")\n",
    "    elif symbol == \"spock\":\n",
    "        human_num = 1\n",
    "        print(\"You picked Spock!\")\n",
    "    elif symbol == \"paper\":\n",
    "        human_num = 2\n",
    "        print(\"You picked Paper!\")\n",
    "    elif symbol == \"lizard\":\n",
    "        human_num = 3\n",
    "        print(\"You picked Lizard!\")\n",
    "    elif symbol == \"scissors\":\n",
    "        human_num = 4\n",
    "        print(\"You picked Scissors!\")\n",
    "    else:\n",
    "        return print(\"Wrong Input! Try again, but for now, GAME OVER!\")\n",
    "    \n",
    "    #Part 2: Choose Computer Symbol Randomly\n",
    "    \n",
    "    comp_num = random.randrange(start = 0, stop = 5, step = 1)\n",
    "    if comp_num == 0:\n",
    "        print(\"Computer picked Rock!\")\n",
    "    elif comp_num == 1:\n",
    "        print(\"Computer picked Spock!\")\n",
    "    elif comp_num == 2:\n",
    "        print(\"Computer picked Paper!\")\n",
    "    elif comp_num == 3:\n",
    "        print(\"Computer picked Lizard!\")\n",
    "    else:\n",
    "        print(\"Computer picked Scissors!\")\n",
    "   \n",
    "    #Part 3: Decide the Winner and print the result\n",
    "    \n",
    "    if human_num == comp_num:\n",
    "        return print(\"Draw. Neither side won. What an exciting match!\")\n",
    "    elif (comp_num - human_num) > 0:\n",
    "        num = comp_num - human_num\n",
    "    else:\n",
    "        num = (comp_num - human_num)%5\n",
    "    if num == 1 or num == 2:\n",
    "        return print (\"Computer Won!\")\n",
    "    else:\n",
    "        return print (\"You Won!\")"
   ]
  },
  {
   "cell_type": "code",
   "execution_count": 15,
   "id": "423d6234",
   "metadata": {},
   "outputs": [
    {
     "name": "stdout",
     "output_type": "stream",
     "text": [
      "You picked Paper!\n",
      "Computer picked Rock!\n",
      "You Won!\n"
     ]
    }
   ],
   "source": [
    "rpsls('paper')"
   ]
  },
  {
   "cell_type": "code",
   "execution_count": 1,
   "id": "3357c516",
   "metadata": {},
   "outputs": [],
   "source": [
    "import datetime"
   ]
  },
  {
   "cell_type": "code",
   "execution_count": 2,
   "id": "604ef229",
   "metadata": {},
   "outputs": [],
   "source": [
    "def days_in_month(year, month):\n",
    "    \"\"\"\n",
    "    Problem 1, we will be returning days in a month for this one.\n",
    "    \"\"\"\n",
    "    \n",
    "    #The only invariant we will use for this will be checking whether the year is within the accepted range of years or not.\n",
    "    \n",
    "    if year > datetime.MAXYEAR or year < datetime.MINYEAR:\n",
    "        return(\"Invalid Year Input\")\n",
    "    date_1 = datetime.date(year, month, 1)\n",
    "    if month == 12:\n",
    "        date_2 = datetime.date(year + 1, 1, 1)\n",
    "    else:\n",
    "        date_2 = datetime.date(year, month + 1, 1)\n",
    "    date_3 = date_2 - date_1\n",
    "    return date_3.days"
   ]
  },
  {
   "cell_type": "code",
   "execution_count": 3,
   "id": "3f7c01ed",
   "metadata": {},
   "outputs": [
    {
     "data": {
      "text/plain": [
       "31"
      ]
     },
     "execution_count": 3,
     "metadata": {},
     "output_type": "execute_result"
    }
   ],
   "source": [
    "days_in_month(2022,5)"
   ]
  },
  {
   "cell_type": "code",
   "execution_count": 4,
   "id": "890f2ea6",
   "metadata": {},
   "outputs": [],
   "source": [
    "def is_valid_date(year, month, day):\n",
    "    \"\"\"\n",
    "    Problem 2, here we will find if the date is valid or not. A date is invalid if it has year, month, or day out of bound.\n",
    "    The final output will be true if date is valid and vice versa.\n",
    "    \"\"\"\n",
    "    #We will use three invariants here: 1. Year is withing limits of datetime module 2. Month is withing the range of 1-12\n",
    "    #3. Day is within the range of 1-31/30 depending on the relevant month  \n",
    "    \n",
    "    if year > datetime.MAXYEAR or year < datetime.MINYEAR:\n",
    "        return False\n",
    "    if month > 12 or month < 1:\n",
    "        return False\n",
    "    if day > days_in_month(year, month) or day < 1:\n",
    "        return False\n",
    "    return True"
   ]
  },
  {
   "cell_type": "code",
   "execution_count": 5,
   "id": "bb4f3e2d",
   "metadata": {},
   "outputs": [
    {
     "data": {
      "text/plain": [
       "True"
      ]
     },
     "execution_count": 5,
     "metadata": {},
     "output_type": "execute_result"
    }
   ],
   "source": [
    "is_valid_date(2022, 5, 1)"
   ]
  },
  {
   "cell_type": "code",
   "execution_count": 6,
   "id": "8350f93d",
   "metadata": {},
   "outputs": [],
   "source": [
    "def days_between(year1, month1, day1, year2, month2, day2):\n",
    "    \"\"\"\n",
    "    Problem 3. Here we are essentially finding delta days. But if second date is earlier or either of the dates \n",
    "    is invalid we will return 0.\n",
    "    \"\"\"\n",
    "    \n",
    "    #We will use two invariants here. 1. Dates should be valid, for this we will use is_valid_date function\n",
    "    #2. Second date should not be earlier than the first one.\n",
    "    \n",
    "    if is_valid_date(year1, month1, day1) is False or is_valid_date(year2, month2, day2) is False:\n",
    "        return 0\n",
    "    date1 = datetime.date(year1, month1, day1)\n",
    "    date2 = datetime.date(year2, month2, day2)\n",
    "    datediff = date2 - date1\n",
    "    if datediff.days < 0:\n",
    "        return 0\n",
    "    else:\n",
    "        return datediff.days"
   ]
  },
  {
   "cell_type": "code",
   "execution_count": 7,
   "id": "dac01686",
   "metadata": {},
   "outputs": [
    {
     "data": {
      "text/plain": [
       "730"
      ]
     },
     "execution_count": 7,
     "metadata": {},
     "output_type": "execute_result"
    }
   ],
   "source": [
    "days_between(2020,5,1,2022,5,1)"
   ]
  },
  {
   "cell_type": "code",
   "execution_count": 8,
   "id": "82029539",
   "metadata": {},
   "outputs": [],
   "source": [
    "def age_in_days(year, month, day):\n",
    "    \"\"\"\n",
    "    Problem 4. This one is heavily based on the problem 3.\n",
    "    \"\"\"\n",
    "    \n",
    "    #Same invariants as the days_between function. We are just substituting date 2 with today.\n",
    "    #If you want age in years, use the expression: age_in_days(year, month, day)//365\n",
    "    \n",
    "    year2 = datetime.date.today().year\n",
    "    month2 = datetime.date.today().month\n",
    "    day2 = datetime.date.today().day\n",
    "    return days_between(year, month, day, year2, month2, day2)"
   ]
  },
  {
   "cell_type": "code",
   "execution_count": 9,
   "id": "599d984c",
   "metadata": {},
   "outputs": [
    {
     "data": {
      "text/plain": [
       "60"
      ]
     },
     "execution_count": 9,
     "metadata": {},
     "output_type": "execute_result"
    }
   ],
   "source": [
    "age_in_days(2022,5,1)"
   ]
  }
 ],
 "metadata": {
  "kernelspec": {
   "display_name": "Python 3 (ipykernel)",
   "language": "python",
   "name": "python3"
  },
  "language_info": {
   "codemirror_mode": {
    "name": "ipython",
    "version": 3
   },
   "file_extension": ".py",
   "mimetype": "text/x-python",
   "name": "python",
   "nbconvert_exporter": "python",
   "pygments_lexer": "ipython3",
   "version": "3.7.4"
  }
 },
 "nbformat": 4,
 "nbformat_minor": 5
}
